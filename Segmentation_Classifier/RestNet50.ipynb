{
 "cells": [
  {
   "cell_type": "code",
   "execution_count": 1,
   "id": "736d2c96",
   "metadata": {},
   "outputs": [],
   "source": [
    "import numpy as np\n",
    "import pandas as pd\n",
    "import matplotlib.pyplot as plt\n",
    "%matplotlib inline \n",
    "import cv2\n",
    "import os\n",
    "from tensorflow.python.keras.applications import ResNet50\n",
    "from tensorflow.python.keras.models import Sequential\n",
    "from tensorflow.python.keras.layers import Dense"
   ]
  },
  {
   "cell_type": "code",
   "execution_count": 2,
   "id": "d76dc944",
   "metadata": {},
   "outputs": [
    {
     "name": "stderr",
     "output_type": "stream",
     "text": [
      "Using TensorFlow backend.\n"
     ]
    },
    {
     "name": "stdout",
     "output_type": "stream",
     "text": [
      "Found 160 images belonging to 2 classes.\n",
      "Found 20 images belonging to 2 classes.\n",
      "Found 20 images belonging to 2 classes.\n"
     ]
    }
   ],
   "source": [
    "train_path=\"data/classification/train\"\n",
    "test_path=\"data/classification/test\"\n",
    "val_path=\"data/classification/valid\"\n",
    "from keras.applications.resnet50 import preprocess_input\n",
    "from keras.preprocessing.image import ImageDataGenerator\n",
    "# Data Augmentation and Preparation that has been recommended\n",
    "IDG = ImageDataGenerator(preprocessing_function=preprocess_input)\n",
    "train_generator = IDG.flow_from_directory(train_path,target_size=(224, 224),batch_size=32,shuffle=True,class_mode='categorical')\n",
    "test_generator = IDG.flow_from_directory(test_path,target_size=(224,224),batch_size=32,shuffle=False,class_mode='categorical')\n",
    "val_generator = IDG.flow_from_directory(val_path,target_size=(224, 224),batch_size=32,shuffle=True,class_mode='categorical')"
   ]
  },
  {
   "cell_type": "code",
   "execution_count": 3,
   "id": "d70fb735",
   "metadata": {},
   "outputs": [
    {
     "name": "stdout",
     "output_type": "stream",
     "text": [
      "WARNING:tensorflow:From C:\\Users\\samsu\\anaconda3\\envs\\AI_CW\\lib\\site-packages\\tensorflow_core\\python\\ops\\resource_variable_ops.py:1630: calling BaseResourceVariable.__init__ (from tensorflow.python.ops.resource_variable_ops) with constraint is deprecated and will be removed in a future version.\n",
      "Instructions for updating:\n",
      "If using Keras pass *_constraint arguments to layers.\n"
     ]
    }
   ],
   "source": [
    "model = Sequential()\n",
    "model.add(ResNet50(include_top = False, pooling = 'avg', weights = 'imagenet'))\n",
    "model.add(Dense(2, activation = 'softmax'))\n",
    "model.layers[0].trainable = False"
   ]
  },
  {
   "cell_type": "code",
   "execution_count": 4,
   "id": "fb200148",
   "metadata": {},
   "outputs": [],
   "source": [
    "from tensorflow.python.keras import optimizers\n",
    "\n",
    "sgd = optimizers.SGD(lr = 0.01, decay = 1e-6, momentum = 0.9, nesterov = True)\n",
    "model.compile(optimizer = sgd, loss = 'categorical_crossentropy', metrics = ['accuracy'])"
   ]
  },
  {
   "cell_type": "code",
   "execution_count": 5,
   "id": "2d7b93c1",
   "metadata": {},
   "outputs": [],
   "source": [
    "from tensorflow.python.keras.callbacks import ModelCheckpoint\n",
    "mc = ModelCheckpoint('model/ResNet50_model.hdf5', monitor='val_loss',verbose=1, save_best_only=True)"
   ]
  },
  {
   "cell_type": "code",
   "execution_count": 6,
   "id": "52d44a93",
   "metadata": {},
   "outputs": [
    {
     "name": "stdout",
     "output_type": "stream",
     "text": [
      "Epoch 1/25\n",
      "24/25 [===========================>..] - ETA: 7s - loss: 0.2824 - acc: 0.8750 Epoch 1/25\n",
      "25/25 [==============================] - 57s 2s/step - loss: 0.6653 - acc: 0.7000\n",
      "\n",
      "Epoch 00001: val_loss improved from inf to 0.66528, saving model to model/ResNet50_model.hdf5\n",
      "25/25 [==============================] - 234s 9s/step - loss: 0.2772 - acc: 0.8763 - val_loss: 0.6653 - val_acc: 0.7000\n",
      "Epoch 2/25\n",
      "24/25 [===========================>..] - ETA: 6s - loss: 0.0808 - acc: 0.9714 Epoch 1/25\n",
      "25/25 [==============================] - 53s 2s/step - loss: 0.8733 - acc: 0.6000\n",
      "\n",
      "Epoch 00002: val_loss did not improve from 0.66528\n",
      "25/25 [==============================] - 208s 8s/step - loss: 0.0798 - acc: 0.9725 - val_loss: 0.8733 - val_acc: 0.6000\n",
      "Epoch 3/25\n",
      "24/25 [===========================>..] - ETA: 5s - loss: 0.0431 - acc: 0.9922 Epoch 1/25\n",
      "25/25 [==============================] - 56s 2s/step - loss: 0.9209 - acc: 0.6000\n",
      "\n",
      "Epoch 00003: val_loss did not improve from 0.66528\n",
      "25/25 [==============================] - 204s 8s/step - loss: 0.0421 - acc: 0.9925 - val_loss: 0.9209 - val_acc: 0.6000\n",
      "Epoch 4/25\n",
      "24/25 [===========================>..] - ETA: 6s - loss: 0.0329 - acc: 0.9961 Epoch 1/25\n",
      "25/25 [==============================] - 53s 2s/step - loss: 0.9685 - acc: 0.6000\n",
      "\n",
      "Epoch 00004: val_loss did not improve from 0.66528\n",
      "25/25 [==============================] - 216s 9s/step - loss: 0.0326 - acc: 0.9962 - val_loss: 0.9685 - val_acc: 0.6000\n",
      "Epoch 5/25\n",
      "24/25 [===========================>..] - ETA: 5s - loss: 0.0195 - acc: 0.9987 Epoch 1/25\n",
      "25/25 [==============================] - 52s 2s/step - loss: 0.9632 - acc: 0.6000\n",
      "\n",
      "Epoch 00005: val_loss did not improve from 0.66528\n",
      "25/25 [==============================] - 199s 8s/step - loss: 0.0201 - acc: 0.9975 - val_loss: 0.9632 - val_acc: 0.6000\n",
      "Epoch 6/25\n",
      "24/25 [===========================>..] - ETA: 5s - loss: 0.0198 - acc: 1.0000 Epoch 1/25\n",
      "25/25 [==============================] - 54s 2s/step - loss: 0.9827 - acc: 0.6000\n",
      "\n",
      "Epoch 00006: val_loss did not improve from 0.66528\n",
      "25/25 [==============================] - 202s 8s/step - loss: 0.0194 - acc: 1.0000 - val_loss: 0.9827 - val_acc: 0.6000\n",
      "Epoch 7/25\n",
      "24/25 [===========================>..] - ETA: 6s - loss: 0.0250 - acc: 0.9961 Epoch 1/25\n",
      "25/25 [==============================] - 53s 2s/step - loss: 0.9839 - acc: 0.6000\n",
      "\n",
      "Epoch 00007: val_loss did not improve from 0.66528\n",
      "25/25 [==============================] - 206s 8s/step - loss: 0.0244 - acc: 0.9962 - val_loss: 0.9839 - val_acc: 0.6000\n",
      "Epoch 8/25\n",
      "24/25 [===========================>..] - ETA: 5s - loss: 0.0144 - acc: 1.0000 Epoch 1/25\n",
      "25/25 [==============================] - 53s 2s/step - loss: 1.1442 - acc: 0.6000\n",
      "\n",
      "Epoch 00008: val_loss did not improve from 0.66528\n",
      "25/25 [==============================] - 200s 8s/step - loss: 0.0144 - acc: 1.0000 - val_loss: 1.1442 - val_acc: 0.6000\n",
      "Epoch 9/25\n",
      "24/25 [===========================>..] - ETA: 6s - loss: 0.0160 - acc: 1.0000 Epoch 1/25\n",
      "25/25 [==============================] - 56s 2s/step - loss: 1.0529 - acc: 0.6000\n",
      "\n",
      "Epoch 00009: val_loss did not improve from 0.66528\n",
      "25/25 [==============================] - 207s 8s/step - loss: 0.0157 - acc: 1.0000 - val_loss: 1.0529 - val_acc: 0.6000\n",
      "Epoch 10/25\n",
      "24/25 [===========================>..] - ETA: 5s - loss: 0.0102 - acc: 1.0000 Epoch 1/25\n",
      "25/25 [==============================] - 53s 2s/step - loss: 1.0922 - acc: 0.6000\n",
      "\n",
      "Epoch 00010: val_loss did not improve from 0.66528\n",
      "25/25 [==============================] - 200s 8s/step - loss: 0.0107 - acc: 1.0000 - val_loss: 1.0922 - val_acc: 0.6000\n",
      "Epoch 11/25\n",
      "24/25 [===========================>..] - ETA: 5s - loss: 0.0131 - acc: 0.9987 Epoch 1/25\n",
      "25/25 [==============================] - 53s 2s/step - loss: 1.0642 - acc: 0.6000\n",
      "\n",
      "Epoch 00011: val_loss did not improve from 0.66528\n",
      "25/25 [==============================] - 202s 8s/step - loss: 0.0129 - acc: 0.9987 - val_loss: 1.0642 - val_acc: 0.6000\n",
      "Epoch 12/25\n",
      "24/25 [===========================>..] - ETA: 6s - loss: 0.0125 - acc: 0.9987 Epoch 1/25\n",
      "25/25 [==============================] - 53s 2s/step - loss: 1.1605 - acc: 0.6000\n",
      "\n",
      "Epoch 00012: val_loss did not improve from 0.66528\n",
      "25/25 [==============================] - 207s 8s/step - loss: 0.0125 - acc: 0.9987 - val_loss: 1.1605 - val_acc: 0.6000\n",
      "Epoch 13/25\n",
      "24/25 [===========================>..] - ETA: 6s - loss: 0.0089 - acc: 1.0000 Epoch 1/25\n",
      "25/25 [==============================] - 53s 2s/step - loss: 1.2291 - acc: 0.6500\n",
      "\n",
      "Epoch 00013: val_loss did not improve from 0.66528\n",
      "25/25 [==============================] - 211s 8s/step - loss: 0.0094 - acc: 1.0000 - val_loss: 1.2291 - val_acc: 0.6500\n",
      "Epoch 14/25\n",
      "24/25 [===========================>..] - ETA: 6s - loss: 0.0114 - acc: 1.0000 Epoch 1/25\n",
      "25/25 [==============================] - 58s 2s/step - loss: 1.2154 - acc: 0.6000\n",
      "\n",
      "Epoch 00014: val_loss did not improve from 0.66528\n",
      "25/25 [==============================] - 214s 9s/step - loss: 0.0114 - acc: 1.0000 - val_loss: 1.2154 - val_acc: 0.6000\n",
      "Epoch 15/25\n",
      "24/25 [===========================>..] - ETA: 6s - loss: 0.0105 - acc: 1.0000 Epoch 1/25\n",
      "25/25 [==============================] - 56s 2s/step - loss: 1.2805 - acc: 0.6000\n",
      "\n",
      "Epoch 00015: val_loss did not improve from 0.66528\n",
      "25/25 [==============================] - 211s 8s/step - loss: 0.0105 - acc: 1.0000 - val_loss: 1.2805 - val_acc: 0.6000\n",
      "Epoch 16/25\n",
      "24/25 [===========================>..] - ETA: 6s - loss: 0.0079 - acc: 1.0000 Epoch 1/25\n",
      "25/25 [==============================] - 55s 2s/step - loss: 1.3170 - acc: 0.6000\n",
      "\n",
      "Epoch 00016: val_loss did not improve from 0.66528\n",
      "25/25 [==============================] - 215s 9s/step - loss: 0.0079 - acc: 1.0000 - val_loss: 1.3170 - val_acc: 0.6000\n",
      "Epoch 17/25\n",
      "24/25 [===========================>..] - ETA: 6s - loss: 0.0079 - acc: 1.0000 Epoch 1/25\n",
      "25/25 [==============================] - 64s 3s/step - loss: 1.3012 - acc: 0.6000\n",
      "\n",
      "Epoch 00017: val_loss did not improve from 0.66528\n",
      "25/25 [==============================] - 234s 9s/step - loss: 0.0080 - acc: 1.0000 - val_loss: 1.3012 - val_acc: 0.6000\n",
      "Epoch 18/25\n",
      "24/25 [===========================>..] - ETA: 6s - loss: 0.0100 - acc: 1.0000 Epoch 1/25\n",
      "25/25 [==============================] - 59s 2s/step - loss: 1.4061 - acc: 0.6000\n",
      "\n",
      "Epoch 00018: val_loss did not improve from 0.66528\n",
      "25/25 [==============================] - 216s 9s/step - loss: 0.0100 - acc: 1.0000 - val_loss: 1.4061 - val_acc: 0.6000\n",
      "Epoch 19/25\n",
      "24/25 [===========================>..] - ETA: 6s - loss: 0.0078 - acc: 1.0000 Epoch 1/25\n",
      "25/25 [==============================] - 61s 2s/step - loss: 1.2951 - acc: 0.5500\n",
      "\n",
      "Epoch 00019: val_loss did not improve from 0.66528\n",
      "25/25 [==============================] - 224s 9s/step - loss: 0.0080 - acc: 1.0000 - val_loss: 1.2951 - val_acc: 0.5500\n",
      "Epoch 20/25\n",
      "24/25 [===========================>..] - ETA: 6s - loss: 0.0060 - acc: 1.0000 Epoch 1/25\n",
      "25/25 [==============================] - 57s 2s/step - loss: 1.3920 - acc: 0.6000\n",
      "\n",
      "Epoch 00020: val_loss did not improve from 0.66528\n",
      "25/25 [==============================] - 213s 9s/step - loss: 0.0060 - acc: 1.0000 - val_loss: 1.3920 - val_acc: 0.6000\n",
      "Epoch 21/25\n",
      "24/25 [===========================>..] - ETA: 6s - loss: 0.0084 - acc: 1.0000 Epoch 1/25\n",
      "25/25 [==============================] - 57s 2s/step - loss: 1.3547 - acc: 0.5500\n",
      "\n",
      "Epoch 00021: val_loss did not improve from 0.66528\n",
      "25/25 [==============================] - 215s 9s/step - loss: 0.0087 - acc: 1.0000 - val_loss: 1.3547 - val_acc: 0.5500\n",
      "Epoch 22/25\n",
      "24/25 [===========================>..] - ETA: 6s - loss: 0.0106 - acc: 1.0000 Epoch 1/25\n",
      "25/25 [==============================] - 59s 2s/step - loss: 1.3719 - acc: 0.6000\n",
      "\n",
      "Epoch 00022: val_loss did not improve from 0.66528\n",
      "25/25 [==============================] - 221s 9s/step - loss: 0.0103 - acc: 1.0000 - val_loss: 1.3719 - val_acc: 0.6000\n",
      "Epoch 23/25\n",
      "24/25 [===========================>..] - ETA: 6s - loss: 0.0051 - acc: 1.0000 Epoch 1/25\n",
      "25/25 [==============================] - 61s 2s/step - loss: 1.3909 - acc: 0.5500\n",
      "\n",
      "Epoch 00023: val_loss did not improve from 0.66528\n",
      "25/25 [==============================] - 217s 9s/step - loss: 0.0052 - acc: 1.0000 - val_loss: 1.3909 - val_acc: 0.5500\n"
     ]
    },
    {
     "name": "stdout",
     "output_type": "stream",
     "text": [
      "Epoch 24/25\n",
      "24/25 [===========================>..] - ETA: 6s - loss: 0.0050 - acc: 1.0000 Epoch 1/25\n",
      "25/25 [==============================] - 54s 2s/step - loss: 1.4267 - acc: 0.6000\n",
      "\n",
      "Epoch 00024: val_loss did not improve from 0.66528\n",
      "25/25 [==============================] - 221s 9s/step - loss: 0.0051 - acc: 1.0000 - val_loss: 1.4267 - val_acc: 0.6000\n",
      "Epoch 25/25\n",
      "24/25 [===========================>..] - ETA: 8s - loss: 0.0057 - acc: 1.0000 Epoch 1/25\n",
      "25/25 [==============================] - 92s 4s/step - loss: 1.3849 - acc: 0.5500\n",
      "\n",
      "Epoch 00025: val_loss did not improve from 0.66528\n",
      "25/25 [==============================] - 300s 12s/step - loss: 0.0056 - acc: 1.0000 - val_loss: 1.3849 - val_acc: 0.5500\n"
     ]
    }
   ],
   "source": [
    "H = model.fit_generator(\n",
    "        train_generator,\n",
    "        steps_per_epoch=25,\n",
    "        epochs = 25,\n",
    "        validation_data=val_generator,\n",
    "        validation_steps=25,\n",
    "        callbacks=[mc]\n",
    ")"
   ]
  },
  {
   "cell_type": "code",
   "execution_count": 7,
   "id": "34feafe3",
   "metadata": {},
   "outputs": [
    {
     "data": {
      "image/png": "[encoded data removed]",
      "text/plain": [
       "<Figure size 432x288 with 1 Axes>"
      ]
     },
     "metadata": {
      "needs_background": "light"
     },
     "output_type": "display_data"
    }
   ],
   "source": [
    "import matplotlib.pyplot as plt\n",
    "# plot training history\n",
    "plt.figure()\n",
    "plt.plot(H.history['acc'], label='acc')\n",
    "plt.plot(H.history['val_acc'], label='val_acc')\n",
    "\n",
    "plt.title(\"Training & Validation Accuracy\")\n",
    "plt.xlabel(\"Epoch #\")\n",
    "plt.ylabel(\"Accuracy\")\n",
    "plt.legend()\n",
    "plt.savefig(\"plot/ResNet50_model_A.png\")\n",
    "plt.show()"
   ]
  },
  {
   "cell_type": "code",
   "execution_count": 8,
   "id": "c5d7e7a5",
   "metadata": {},
   "outputs": [
    {
     "data": {
      "image/png": "[encoded data removed]",
      "text/plain": [
       "<Figure size 432x288 with 1 Axes>"
      ]
     },
     "metadata": {
      "needs_background": "light"
     },
     "output_type": "display_data"
    }
   ],
   "source": [
    "import matplotlib.pyplot as plt\n",
    "# plot training history\n",
    "plt.figure()\n",
    "plt.plot(H.history['loss'], label='loss')\n",
    "plt.plot(H.history['val_loss'], label='val_loss')\n",
    "\n",
    "plt.title(\"Training & Validation Loss\")\n",
    "plt.xlabel(\"Epoch #\")\n",
    "plt.ylabel(\"Loss\")\n",
    "plt.legend()\n",
    "plt.savefig(\"plot/ResNet50_model_L.png\")\n",
    "plt.show()"
   ]
  },
  {
   "cell_type": "code",
   "execution_count": 10,
   "id": "5a74927e",
   "metadata": {},
   "outputs": [
    {
     "name": "stdout",
     "output_type": "stream",
     "text": [
      "WARNING:tensorflow:From C:\\Users\\samsu\\anaconda3\\envs\\AI_CW\\lib\\site-packages\\tensorflow_core\\python\\ops\\init_ops.py:97: calling GlorotUniform.__init__ (from tensorflow.python.ops.init_ops) with dtype is deprecated and will be removed in a future version.\n",
      "Instructions for updating:\n",
      "Call initializer instance with the dtype argument instead of passing it to the constructor\n",
      "WARNING:tensorflow:From C:\\Users\\samsu\\anaconda3\\envs\\AI_CW\\lib\\site-packages\\tensorflow_core\\python\\ops\\init_ops.py:97: calling Zeros.__init__ (from tensorflow.python.ops.init_ops) with dtype is deprecated and will be removed in a future version.\n",
      "Instructions for updating:\n",
      "Call initializer instance with the dtype argument instead of passing it to the constructor\n",
      "WARNING:tensorflow:From C:\\Users\\samsu\\anaconda3\\envs\\AI_CW\\lib\\site-packages\\tensorflow_core\\python\\ops\\init_ops.py:97: calling Ones.__init__ (from tensorflow.python.ops.init_ops) with dtype is deprecated and will be removed in a future version.\n",
      "Instructions for updating:\n",
      "Call initializer instance with the dtype argument instead of passing it to the constructor\n"
     ]
    },
    {
     "data": {
      "text/plain": [
       "[0.9068409204483032, 0.75]"
      ]
     },
     "execution_count": 10,
     "metadata": {},
     "output_type": "execute_result"
    }
   ],
   "source": [
    "from tensorflow.keras.models import load_model\n",
    "model2 = load_model(\"model/ResNet50_model.hdf5\")\n",
    "model2.evaluate_generator(test_generator)"
   ]
  },
  {
   "cell_type": "code",
   "execution_count": null,
   "id": "b2b9b7f5",
   "metadata": {},
   "outputs": [],
   "source": []
  }
 ],
 "metadata": {
  "kernelspec": {
   "display_name": "Python 3",
   "language": "python",
   "name": "python3"
  },
  "language_info": {
   "codemirror_mode": {
    "name": "ipython",
    "version": 3
   },
   "file_extension": ".py",
   "mimetype": "text/x-python",
   "name": "python",
   "nbconvert_exporter": "python",
   "pygments_lexer": "ipython3",
   "version": "3.6.13"
  }
 },
 "nbformat": 4,
 "nbformat_minor": 5
}
