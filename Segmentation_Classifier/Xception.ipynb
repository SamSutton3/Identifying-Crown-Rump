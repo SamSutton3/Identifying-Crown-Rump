{
 "cells": [
  {
   "cell_type": "code",
   "execution_count": 1,
   "id": "736d2c96",
   "metadata": {
    "scrolled": true
   },
   "outputs": [
    {
     "name": "stderr",
     "output_type": "stream",
     "text": [
      "Using TensorFlow backend.\n"
     ]
    }
   ],
   "source": [
    "import os \n",
    "import zipfile \n",
    "import tensorflow as tf \n",
    "from tensorflow.keras.preprocessing.image import ImageDataGenerator \n",
    "from tensorflow.keras import layers \n",
    "from tensorflow.keras import Model\n",
    "from keras.callbacks import EarlyStopping,ModelCheckpoint\n",
    "import matplotlib.pyplot as plt\n"
   ]
  },
  {
   "cell_type": "code",
   "execution_count": 2,
   "id": "1ff15efc",
   "metadata": {
    "scrolled": true
   },
   "outputs": [],
   "source": [
    "train_path=\"data/classification/train\"\n",
    "test_path=\"data/classification/test\"\n",
    "val_path=\"data/classification/valid\""
   ]
  },
  {
   "cell_type": "code",
   "execution_count": 3,
   "id": "d76dc944",
   "metadata": {
    "scrolled": true
   },
   "outputs": [],
   "source": [
    "train_datagen = ImageDataGenerator(rescale = 1./255., rotation_range = 40, width_shift_range = 0.2, height_shift_range = 0.2,shear_range = 0.2, zoom_range = 0.2, horizontal_flip = True)\n",
    "test_datagen = ImageDataGenerator( rescale = 1.0/255. )"
   ]
  },
  {
   "cell_type": "code",
   "execution_count": 4,
   "id": "687d2b9d",
   "metadata": {
    "scrolled": true
   },
   "outputs": [
    {
     "name": "stdout",
     "output_type": "stream",
     "text": [
      "Found 160 images belonging to 2 classes.\n",
      "Found 20 images belonging to 2 classes.\n",
      "Found 20 images belonging to 2 classes.\n"
     ]
    }
   ],
   "source": [
    "train_generator = train_datagen.flow_from_directory(train_path, batch_size = 20, class_mode = 'binary', target_size = (150, 150))\n",
    "validation_generator = test_datagen.flow_from_directory(val_path, batch_size = 20, class_mode = 'binary', target_size = (150, 150))\n",
    "test_generator = test_datagen.flow_from_directory(test_path, batch_size = 20, class_mode = 'binary', target_size = (150, 150))"
   ]
  },
  {
   "cell_type": "code",
   "execution_count": 5,
   "id": "03d89270",
   "metadata": {
    "scrolled": true
   },
   "outputs": [
    {
     "name": "stdout",
     "output_type": "stream",
     "text": [
      "WARNING:tensorflow:From C:\\Users\\samsu\\anaconda3\\envs\\AI_CW\\lib\\site-packages\\tensorflow_core\\python\\ops\\resource_variable_ops.py:1630: calling BaseResourceVariable.__init__ (from tensorflow.python.ops.resource_variable_ops) with constraint is deprecated and will be removed in a future version.\n",
      "Instructions for updating:\n",
      "If using Keras pass *_constraint arguments to layers.\n"
     ]
    }
   ],
   "source": [
    "from tensorflow.keras.applications.xception import Xception\n",
    "base_model = Xception(input_shape = (150, 150, 3), include_top = False, weights = 'imagenet')"
   ]
  },
  {
   "cell_type": "code",
   "execution_count": 6,
   "id": "98a5bb6a",
   "metadata": {
    "scrolled": true
   },
   "outputs": [],
   "source": [
    "import tensorflow as tf\n",
    "# Freeze last 5 layers\n",
    "for layer in base_model.layers[:-5]:\n",
    "    layer.trainable = False"
   ]
  },
  {
   "cell_type": "code",
   "execution_count": 7,
   "id": "d76d4253",
   "metadata": {
    "scrolled": true
   },
   "outputs": [],
   "source": [
    "from tensorflow.keras.layers import Dense, Flatten, Activation, Dropout, GlobalAveragePooling2D\n",
    "from tensorflow.keras.optimizers import RMSprop\n",
    "x = base_model.output\n",
    "x = Flatten()(x)\n",
    "x = Dense(1024, activation=\"relu\")(x)\n",
    "x = Dropout(0.5)(x)\n",
    "predictions = Dense(2, activation=\"softmax\")(x)\n",
    "model = Model(base_model.input, predictions)\n",
    "\n",
    "\n",
    "mc = ModelCheckpoint('model/Xception_model.hdf5', monitor='val_loss',verbose=1, save_best_only=True)\n",
    "model.compile(optimizer = RMSprop(lr=0.0001),loss='sparse_categorical_crossentropy',metrics=['acc'])"
   ]
  },
  {
   "cell_type": "code",
   "execution_count": 8,
   "id": "b4fde9f5",
   "metadata": {
    "scrolled": false
   },
   "outputs": [
    {
     "name": "stdout",
     "output_type": "stream",
     "text": [
      "Epoch 1/25\n",
      " 99/100 [============================>.] - ETA: 2s - loss: 1.0663 - acc: 0.7237Epoch 1/25\n",
      "  1/100 [..............................] - ETA: 3:05 - loss: 1.8113 - acc: 0.5500\n",
      "Epoch 00001: val_loss improved from inf to 1.81127, saving model to model/Xception_model.hdf5\n",
      "100/100 [==============================] - 290s 3s/step - loss: 1.0617 - acc: 0.7230 - val_loss: 1.8113 - val_acc: 0.5500\n",
      "Epoch 2/25\n",
      " 99/100 [============================>.] - ETA: 2s - loss: 0.6852 - acc: 0.7924Epoch 1/25\n",
      "  1/100 [..............................] - ETA: 2:57 - loss: 1.3316 - acc: 0.6000\n",
      "Epoch 00002: val_loss improved from 1.81127 to 1.33159, saving model to model/Xception_model.hdf5\n",
      "100/100 [==============================] - 275s 3s/step - loss: 0.6843 - acc: 0.7920 - val_loss: 1.3316 - val_acc: 0.6000\n",
      "Epoch 3/25\n",
      " 99/100 [============================>.] - ETA: 2s - loss: 0.6380 - acc: 0.8136Epoch 1/25\n",
      "  1/100 [..............................] - ETA: 2:42 - loss: 2.2955 - acc: 0.6000\n",
      "Epoch 00003: val_loss did not improve from 1.33159\n",
      "100/100 [==============================] - 269s 3s/step - loss: 0.6344 - acc: 0.8140 - val_loss: 2.2955 - val_acc: 0.6000\n",
      "Epoch 4/25\n",
      " 99/100 [============================>.] - ETA: 2s - loss: 0.5737 - acc: 0.8227Epoch 1/25\n",
      "  1/100 [..............................] - ETA: 2:37 - loss: 2.7318 - acc: 0.5500\n",
      "Epoch 00004: val_loss did not improve from 1.33159\n",
      "100/100 [==============================] - 279s 3s/step - loss: 0.5749 - acc: 0.8230 - val_loss: 2.7318 - val_acc: 0.5500\n",
      "Epoch 5/25\n",
      " 99/100 [============================>.] - ETA: 3s - loss: 0.5121 - acc: 0.8591Epoch 1/25\n",
      "  1/100 [..............................] - ETA: 2:33 - loss: 0.7663 - acc: 0.7500\n",
      "Epoch 00005: val_loss improved from 1.33159 to 0.76626, saving model to model/Xception_model.hdf5\n",
      "100/100 [==============================] - 311s 3s/step - loss: 0.5092 - acc: 0.8595 - val_loss: 0.7663 - val_acc: 0.7500\n",
      "Epoch 6/25\n",
      " 99/100 [============================>.] - ETA: 2s - loss: 0.4821 - acc: 0.8662Epoch 1/25\n",
      "  1/100 [..............................] - ETA: 2:58 - loss: 2.2465 - acc: 0.6500\n",
      "Epoch 00006: val_loss did not improve from 0.76626\n",
      "100/100 [==============================] - 291s 3s/step - loss: 0.4814 - acc: 0.8655 - val_loss: 2.2465 - val_acc: 0.6500\n",
      "Epoch 7/25\n",
      " 99/100 [============================>.] - ETA: 2s - loss: 0.4022 - acc: 0.8818Epoch 1/25\n",
      "  1/100 [..............................] - ETA: 2:16 - loss: 0.8238 - acc: 0.8000\n",
      "Epoch 00007: val_loss did not improve from 0.76626\n",
      "100/100 [==============================] - 260s 3s/step - loss: 0.4022 - acc: 0.8820 - val_loss: 0.8238 - val_acc: 0.8000\n",
      "Epoch 8/25\n",
      " 99/100 [============================>.] - ETA: 2s - loss: 0.4568 - acc: 0.8667Epoch 1/25\n",
      "  1/100 [..............................] - ETA: 3:09 - loss: 0.8239 - acc: 0.7500\n",
      "Epoch 00008: val_loss did not improve from 0.76626\n",
      "100/100 [==============================] - 275s 3s/step - loss: 0.4567 - acc: 0.8675 - val_loss: 0.8239 - val_acc: 0.7500\n",
      "Epoch 9/25\n",
      " 99/100 [============================>.] - ETA: 3s - loss: 0.3174 - acc: 0.9005Epoch 1/25\n",
      "  1/100 [..............................] - ETA: 2:28 - loss: 1.6994 - acc: 0.7000\n",
      "Epoch 00009: val_loss did not improve from 0.76626\n",
      "100/100 [==============================] - 317s 3s/step - loss: 0.3160 - acc: 0.9010 - val_loss: 1.6994 - val_acc: 0.7000\n",
      "Epoch 10/25\n",
      " 99/100 [============================>.] - ETA: 2s - loss: 0.3645 - acc: 0.9010Epoch 1/25\n",
      "  1/100 [..............................] - ETA: 2:47 - loss: 2.2206 - acc: 0.6000\n",
      "Epoch 00010: val_loss did not improve from 0.76626\n",
      "100/100 [==============================] - 259s 3s/step - loss: 0.3637 - acc: 0.9015 - val_loss: 2.2206 - val_acc: 0.6000\n",
      "Epoch 11/25\n",
      " 99/100 [============================>.] - ETA: 2s - loss: 0.3275 - acc: 0.8985Epoch 1/25\n",
      "  1/100 [..............................] - ETA: 2:50 - loss: 1.3111 - acc: 0.8000\n",
      "Epoch 00011: val_loss did not improve from 0.76626\n",
      "100/100 [==============================] - 265s 3s/step - loss: 0.3286 - acc: 0.8980 - val_loss: 1.3111 - val_acc: 0.8000\n",
      "Epoch 12/25\n",
      " 99/100 [============================>.] - ETA: 2s - loss: 0.3250 - acc: 0.9121Epoch 1/25\n",
      "  1/100 [..............................] - ETA: 3:37 - loss: 2.7818 - acc: 0.7000\n",
      "Epoch 00012: val_loss did not improve from 0.76626\n",
      "100/100 [==============================] - 276s 3s/step - loss: 0.3250 - acc: 0.9120 - val_loss: 2.7818 - val_acc: 0.7000\n",
      "Epoch 13/25\n",
      " 99/100 [============================>.] - ETA: 2s - loss: 0.3250 - acc: 0.9010Epoch 1/25\n",
      "  1/100 [..............................] - ETA: 3:20 - loss: 2.3349 - acc: 0.7500\n",
      "Epoch 00013: val_loss did not improve from 0.76626\n",
      "100/100 [==============================] - 283s 3s/step - loss: 0.3223 - acc: 0.9015 - val_loss: 2.3349 - val_acc: 0.7500\n",
      "Epoch 14/25\n",
      " 99/100 [============================>.] - ETA: 2s - loss: 0.2757 - acc: 0.9202Epoch 1/25\n",
      "  1/100 [..............................] - ETA: 2:40 - loss: 5.1289 - acc: 0.5500\n",
      "Epoch 00014: val_loss did not improve from 0.76626\n",
      "100/100 [==============================] - 266s 3s/step - loss: 0.2863 - acc: 0.9190 - val_loss: 5.1289 - val_acc: 0.5500\n",
      "Epoch 15/25\n",
      " 99/100 [============================>.] - ETA: 2s - loss: 0.2826 - acc: 0.9222Epoch 1/25\n",
      "  1/100 [..............................] - ETA: 2:31 - loss: 1.6663 - acc: 0.8000\n",
      "Epoch 00015: val_loss did not improve from 0.76626\n",
      "100/100 [==============================] - 264s 3s/step - loss: 0.2801 - acc: 0.9230 - val_loss: 1.6663 - val_acc: 0.8000\n",
      "Epoch 16/25\n",
      " 99/100 [============================>.] - ETA: 2s - loss: 0.3128 - acc: 0.9247Epoch 1/25\n",
      "  1/100 [..............................] - ETA: 2:53 - loss: 1.8429 - acc: 0.8000\n",
      "Epoch 00016: val_loss did not improve from 0.76626\n",
      "100/100 [==============================] - 270s 3s/step - loss: 0.3107 - acc: 0.9250 - val_loss: 1.8429 - val_acc: 0.8000\n",
      "Epoch 17/25\n",
      " 99/100 [============================>.] - ETA: 2s - loss: 0.3105 - acc: 0.9182Epoch 1/25\n",
      "  1/100 [..............................] - ETA: 2:32 - loss: 1.6005 - acc: 0.8000\n",
      "Epoch 00017: val_loss did not improve from 0.76626\n",
      "100/100 [==============================] - 284s 3s/step - loss: 0.3075 - acc: 0.9190 - val_loss: 1.6005 - val_acc: 0.8000\n",
      "Epoch 18/25\n",
      " 99/100 [============================>.] - ETA: 2s - loss: 0.2489 - acc: 0.9202Epoch 1/25\n",
      "  1/100 [..............................] - ETA: 2:36 - loss: 2.4460 - acc: 0.8000\n",
      "Epoch 00018: val_loss did not improve from 0.76626\n",
      "100/100 [==============================] - 265s 3s/step - loss: 0.2522 - acc: 0.9195 - val_loss: 2.4460 - val_acc: 0.8000\n",
      "Epoch 19/25\n",
      " 99/100 [============================>.] - ETA: 2s - loss: 0.2869 - acc: 0.9242Epoch 1/25\n",
      "  1/100 [..............................] - ETA: 2:14 - loss: 2.2190 - acc: 0.7500\n",
      "Epoch 00019: val_loss did not improve from 0.76626\n",
      "100/100 [==============================] - 263s 3s/step - loss: 0.2845 - acc: 0.9250 - val_loss: 2.2190 - val_acc: 0.7500\n",
      "Epoch 20/25\n",
      " 99/100 [============================>.] - ETA: 2s - loss: 0.2346 - acc: 0.9293Epoch 1/25\n",
      "  1/100 [..............................] - ETA: 3:35 - loss: 1.1303 - acc: 0.8500\n",
      "Epoch 00020: val_loss did not improve from 0.76626\n",
      "100/100 [==============================] - 265s 3s/step - loss: 0.2361 - acc: 0.9290 - val_loss: 1.1303 - val_acc: 0.8500\n",
      "Epoch 21/25\n",
      " 99/100 [============================>.] - ETA: 2s - loss: 0.2552 - acc: 0.9308Epoch 1/25\n",
      "  1/100 [..............................] - ETA: 2:40 - loss: 0.7376 - acc: 0.9000\n",
      "Epoch 00021: val_loss improved from 0.76626 to 0.73763, saving model to model/Xception_model.hdf5\n",
      "100/100 [==============================] - 268s 3s/step - loss: 0.2529 - acc: 0.9315 - val_loss: 0.7376 - val_acc: 0.9000\n",
      "Epoch 22/25\n",
      " 99/100 [============================>.] - ETA: 3s - loss: 0.2150 - acc: 0.9394Epoch 1/25\n",
      "  1/100 [..............................] - ETA: 3:26 - loss: 2.0852 - acc: 0.8000\n",
      "Epoch 00022: val_loss did not improve from 0.73763\n",
      "100/100 [==============================] - 321s 3s/step - loss: 0.2137 - acc: 0.9395 - val_loss: 2.0852 - val_acc: 0.8000\n",
      "Epoch 23/25\n",
      " 99/100 [============================>.] - ETA: 2s - loss: 0.2710 - acc: 0.9313Epoch 1/25\n"
     ]
    },
    {
     "name": "stdout",
     "output_type": "stream",
     "text": [
      "  1/100 [..............................] - ETA: 2:31 - loss: 1.6805 - acc: 0.8000\n",
      "Epoch 00023: val_loss did not improve from 0.73763\n",
      "100/100 [==============================] - 285s 3s/step - loss: 0.2707 - acc: 0.9310 - val_loss: 1.6805 - val_acc: 0.8000\n",
      "Epoch 24/25\n",
      " 99/100 [============================>.] - ETA: 2s - loss: 0.2602 - acc: 0.9313Epoch 1/25\n",
      "  1/100 [..............................] - ETA: 2:43 - loss: 3.2968 - acc: 0.8000\n",
      "Epoch 00024: val_loss did not improve from 0.73763\n",
      "100/100 [==============================] - 273s 3s/step - loss: 0.2591 - acc: 0.9315 - val_loss: 3.2968 - val_acc: 0.8000\n",
      "Epoch 25/25\n",
      " 99/100 [============================>.] - ETA: 2s - loss: 0.2161 - acc: 0.9389Epoch 1/25\n",
      "  1/100 [..............................] - ETA: 2:15 - loss: 2.6309 - acc: 0.8000\n",
      "Epoch 00025: val_loss did not improve from 0.73763\n",
      "100/100 [==============================] - 267s 3s/step - loss: 0.2143 - acc: 0.9395 - val_loss: 2.6309 - val_acc: 0.8000\n"
     ]
    }
   ],
   "source": [
    "xception_history = model.fit_generator(train_generator, validation_data = validation_generator, steps_per_epoch = 100, epochs = 25, callbacks=[mc])"
   ]
  },
  {
   "cell_type": "code",
   "execution_count": null,
   "id": "82a62349",
   "metadata": {},
   "outputs": [],
   "source": []
  },
  {
   "cell_type": "code",
   "execution_count": 9,
   "id": "e775c304",
   "metadata": {
    "scrolled": true
   },
   "outputs": [
    {
     "data": {
      "image/png": "[encoded data removed]",
      "text/plain": [
       "<Figure size 432x288 with 1 Axes>"
      ]
     },
     "metadata": {
      "needs_background": "light"
     },
     "output_type": "display_data"
    }
   ],
   "source": [
    "import matplotlib.pyplot as plt\n",
    "# plot training history\n",
    "plt.figure()\n",
    "plt.plot(xception_history.history['acc'], label='acc')\n",
    "plt.plot(xception_history.history['val_acc'], label='val_acc')\n",
    "\n",
    "plt.title(\"Training & Validation Accuracy\")\n",
    "plt.xlabel(\"Epoch #\")\n",
    "plt.ylabel(\"Accuracy\")\n",
    "plt.legend()\n",
    "plt.savefig(\"plot/Xception_model_A.png\")\n",
    "plt.show()"
   ]
  },
  {
   "cell_type": "code",
   "execution_count": 10,
   "id": "ecf16dd0",
   "metadata": {
    "scrolled": true
   },
   "outputs": [
    {
     "data": {
      "image/png": "[encoded data removed]",
      "text/plain": [
       "<Figure size 432x288 with 1 Axes>"
      ]
     },
     "metadata": {
      "needs_background": "light"
     },
     "output_type": "display_data"
    }
   ],
   "source": [
    "import matplotlib.pyplot as plt\n",
    "# plot training history\n",
    "plt.figure()\n",
    "plt.plot(xception_history.history['loss'], label='loss')\n",
    "plt.plot(xception_history.history['val_loss'], label='val_loss')\n",
    "\n",
    "plt.title(\"Training & Validation Loss\")\n",
    "plt.xlabel(\"Epoch #\")\n",
    "plt.ylabel(\"Loss\")\n",
    "plt.legend()\n",
    "plt.savefig(\"plot/Xception_model_L.png\")\n",
    "plt.show()"
   ]
  },
  {
   "cell_type": "code",
   "execution_count": 12,
   "id": "ff249883",
   "metadata": {
    "scrolled": true
   },
   "outputs": [
    {
     "data": {
      "text/plain": [
       "[4.36529016494751, 0.8]"
      ]
     },
     "execution_count": 12,
     "metadata": {},
     "output_type": "execute_result"
    }
   ],
   "source": [
    "from tensorflow.keras.models import load_model\n",
    "model1 = load_model('model/Xception_model.hdf5')\n",
    "model1.evaluate_generator(test_generator)"
   ]
  },
  {
   "cell_type": "code",
   "execution_count": null,
   "id": "cc890f1b",
   "metadata": {
    "scrolled": true
   },
   "outputs": [],
   "source": []
  }
 ],
 "metadata": {
  "kernelspec": {
   "display_name": "Python 3",
   "language": "python",
   "name": "python3"
  },
  "language_info": {
   "codemirror_mode": {
    "name": "ipython",
    "version": 3
   },
   "file_extension": ".py",
   "mimetype": "text/x-python",
   "name": "python",
   "nbconvert_exporter": "python",
   "pygments_lexer": "ipython3",
   "version": "3.6.13"
  }
 },
 "nbformat": 4,
 "nbformat_minor": 5
}
