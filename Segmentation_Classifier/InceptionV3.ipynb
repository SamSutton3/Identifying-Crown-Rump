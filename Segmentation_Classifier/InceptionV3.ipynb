{
 "cells": [
  {
   "cell_type": "code",
   "execution_count": 1,
   "id": "736d2c96",
   "metadata": {},
   "outputs": [
    {
     "name": "stderr",
     "output_type": "stream",
     "text": [
      "Using TensorFlow backend.\n"
     ]
    }
   ],
   "source": [
    "import os \n",
    "import zipfile \n",
    "import tensorflow as tf \n",
    "from tensorflow.keras.preprocessing.image import ImageDataGenerator \n",
    "from tensorflow.keras import layers \n",
    "from tensorflow.keras import Model\n",
    "from keras.callbacks import EarlyStopping,ModelCheckpoint\n",
    "import matplotlib.pyplot as plt"
   ]
  },
  {
   "cell_type": "code",
   "execution_count": 2,
   "id": "1ff15efc",
   "metadata": {},
   "outputs": [],
   "source": [
    "train_path=\"data/classification/train\"\n",
    "test_path=\"data/classification/test\"\n",
    "val_path=\"data/classification/valid\""
   ]
  },
  {
   "cell_type": "code",
   "execution_count": 3,
   "id": "d76dc944",
   "metadata": {},
   "outputs": [],
   "source": [
    "train_datagen = ImageDataGenerator(rescale = 1./255., rotation_range = 40, width_shift_range = 0.2, height_shift_range = 0.2,shear_range = 0.2, zoom_range = 0.2, horizontal_flip = True)\n",
    "test_datagen = ImageDataGenerator( rescale = 1.0/255. )"
   ]
  },
  {
   "cell_type": "code",
   "execution_count": 4,
   "id": "687d2b9d",
   "metadata": {},
   "outputs": [
    {
     "name": "stdout",
     "output_type": "stream",
     "text": [
      "Found 160 images belonging to 2 classes.\n",
      "Found 20 images belonging to 2 classes.\n",
      "Found 20 images belonging to 2 classes.\n"
     ]
    }
   ],
   "source": [
    "train_generator = train_datagen.flow_from_directory(train_path, batch_size = 20, class_mode = 'binary', target_size = (150, 150))\n",
    "validation_generator = test_datagen.flow_from_directory(val_path, batch_size = 20, class_mode = 'binary', target_size = (150, 150))\n",
    "test_generator = test_datagen.flow_from_directory(test_path, batch_size = 20, class_mode = 'binary', target_size = (150, 150))"
   ]
  },
  {
   "cell_type": "code",
   "execution_count": 5,
   "id": "03d89270",
   "metadata": {},
   "outputs": [
    {
     "name": "stdout",
     "output_type": "stream",
     "text": [
      "WARNING:tensorflow:From C:\\Users\\samsu\\anaconda3\\envs\\AI_CW\\lib\\site-packages\\tensorflow_core\\python\\ops\\resource_variable_ops.py:1630: calling BaseResourceVariable.__init__ (from tensorflow.python.ops.resource_variable_ops) with constraint is deprecated and will be removed in a future version.\n",
      "Instructions for updating:\n",
      "If using Keras pass *_constraint arguments to layers.\n"
     ]
    }
   ],
   "source": [
    "from tensorflow.keras.applications.inception_v3 import InceptionV3\n",
    "base_model = InceptionV3(input_shape = (150, 150, 3), include_top = False, weights = 'imagenet')"
   ]
  },
  {
   "cell_type": "code",
   "execution_count": 6,
   "id": "98a5bb6a",
   "metadata": {},
   "outputs": [],
   "source": [
    "for layer in base_model.layers:\n",
    "    layer.trainable=False"
   ]
  },
  {
   "cell_type": "code",
   "execution_count": 7,
   "id": "d76d4253",
   "metadata": {},
   "outputs": [
    {
     "name": "stdout",
     "output_type": "stream",
     "text": [
      "WARNING:tensorflow:From C:\\Users\\samsu\\anaconda3\\envs\\AI_CW\\lib\\site-packages\\tensorflow_core\\python\\ops\\nn_impl.py:183: where (from tensorflow.python.ops.array_ops) is deprecated and will be removed in a future version.\n",
      "Instructions for updating:\n",
      "Use tf.where in 2.0, which has the same broadcast rule as np.where\n"
     ]
    }
   ],
   "source": [
    "from tensorflow.keras.optimizers import RMSprop\n",
    "x = layers.Flatten()(base_model.output)\n",
    "x = layers.Dense(1024, activation='relu')(x)\n",
    "x = layers.Dropout(0.2)(x)\n",
    "x = layers.Dense(1, activation='sigmoid')(x)\n",
    "\n",
    "model = tf.keras.models.Model(base_model.input, x)\n",
    "mc = ModelCheckpoint('model/Incv3_model.hdf5', monitor='val_loss',verbose=1, save_best_only=True)\n",
    "model.compile(optimizer = RMSprop(lr=0.0001), loss = 'binary_crossentropy', metrics = ['acc'])"
   ]
  },
  {
   "cell_type": "code",
   "execution_count": 8,
   "id": "b4fde9f5",
   "metadata": {},
   "outputs": [
    {
     "name": "stdout",
     "output_type": "stream",
     "text": [
      "Epoch 1/25\n",
      " 99/100 [============================>.] - ETA: 1s - loss: 0.7763 - acc: 0.7000Epoch 1/25\n",
      "  1/100 [..............................] - ETA: 2:59 - loss: 1.8626 - acc: 0.5500\n",
      "Epoch 00001: val_loss improved from inf to 1.86258, saving model to model/Incv3_model.hdf5\n",
      "100/100 [==============================] - 149s 1s/step - loss: 0.7716 - acc: 0.7010 - val_loss: 1.8626 - val_acc: 0.5500\n",
      "Epoch 2/25\n",
      " 99/100 [============================>.] - ETA: 1s - loss: 0.4976 - acc: 0.7889Epoch 1/25\n",
      "  1/100 [..............................] - ETA: 1:26 - loss: 1.4020 - acc: 0.5500\n",
      "Epoch 00002: val_loss improved from 1.86258 to 1.40195, saving model to model/Incv3_model.hdf5\n",
      "100/100 [==============================] - 103s 1s/step - loss: 0.4971 - acc: 0.7890 - val_loss: 1.4020 - val_acc: 0.5500\n",
      "Epoch 3/25\n",
      " 99/100 [============================>.] - ETA: 1s - loss: 0.4745 - acc: 0.8187Epoch 1/25\n",
      "  1/100 [..............................] - ETA: 1:19 - loss: 0.9859 - acc: 0.6500\n",
      "Epoch 00003: val_loss improved from 1.40195 to 0.98587, saving model to model/Incv3_model.hdf5\n",
      "100/100 [==============================] - 103s 1s/step - loss: 0.4778 - acc: 0.8180 - val_loss: 0.9859 - val_acc: 0.6500\n",
      "Epoch 4/25\n",
      " 99/100 [============================>.] - ETA: 1s - loss: 0.4091 - acc: 0.8222Epoch 1/25\n",
      "  1/100 [..............................] - ETA: 1:18 - loss: 1.1172 - acc: 0.6500\n",
      "Epoch 00004: val_loss did not improve from 0.98587\n",
      "100/100 [==============================] - 101s 1s/step - loss: 0.4078 - acc: 0.8225 - val_loss: 1.1172 - val_acc: 0.6500\n",
      "Epoch 5/25\n",
      " 99/100 [============================>.] - ETA: 1s - loss: 0.4335 - acc: 0.8298Epoch 1/25\n",
      "  1/100 [..............................] - ETA: 1:18 - loss: 0.8611 - acc: 0.7500\n",
      "Epoch 00005: val_loss improved from 0.98587 to 0.86111, saving model to model/Incv3_model.hdf5\n",
      "100/100 [==============================] - 105s 1s/step - loss: 0.4341 - acc: 0.8295 - val_loss: 0.8611 - val_acc: 0.7500\n",
      "Epoch 6/25\n",
      " 99/100 [============================>.] - ETA: 1s - loss: 0.3850 - acc: 0.8318Epoch 1/25\n",
      "  1/100 [..............................] - ETA: 1:16 - loss: 0.9113 - acc: 0.7000\n",
      "Epoch 00006: val_loss did not improve from 0.86111\n",
      "100/100 [==============================] - 101s 1s/step - loss: 0.3843 - acc: 0.8315 - val_loss: 0.9113 - val_acc: 0.7000\n",
      "Epoch 7/25\n",
      " 99/100 [============================>.] - ETA: 0s - loss: 0.3856 - acc: 0.8379Epoch 1/25\n",
      "  1/100 [..............................] - ETA: 1:20 - loss: 1.0099 - acc: 0.7000\n",
      "Epoch 00007: val_loss did not improve from 0.86111\n",
      "100/100 [==============================] - 99s 994ms/step - loss: 0.3878 - acc: 0.8375 - val_loss: 1.0099 - val_acc: 0.7000\n",
      "Epoch 8/25\n",
      " 99/100 [============================>.] - ETA: 1s - loss: 0.3443 - acc: 0.8682Epoch 1/25\n",
      "  1/100 [..............................] - ETA: 1:18 - loss: 1.9295 - acc: 0.6000\n",
      "Epoch 00008: val_loss did not improve from 0.86111\n",
      "100/100 [==============================] - 106s 1s/step - loss: 0.3455 - acc: 0.8675 - val_loss: 1.9295 - val_acc: 0.6000\n",
      "Epoch 9/25\n",
      " 99/100 [============================>.] - ETA: 1s - loss: 0.3478 - acc: 0.8631Epoch 1/25\n",
      "  1/100 [..............................] - ETA: 1:20 - loss: 1.3345 - acc: 0.6500\n",
      "Epoch 00009: val_loss did not improve from 0.86111\n",
      "100/100 [==============================] - 111s 1s/step - loss: 0.3475 - acc: 0.8630 - val_loss: 1.3345 - val_acc: 0.6500\n",
      "Epoch 10/25\n",
      " 99/100 [============================>.] - ETA: 1s - loss: 0.3562 - acc: 0.8566Epoch 1/25\n",
      "  1/100 [..............................] - ETA: 1:19 - loss: 2.9248 - acc: 0.6000\n",
      "Epoch 00010: val_loss did not improve from 0.86111\n",
      "100/100 [==============================] - 103s 1s/step - loss: 0.3558 - acc: 0.8570 - val_loss: 2.9248 - val_acc: 0.6000\n",
      "Epoch 11/25\n",
      " 99/100 [============================>.] - ETA: 1s - loss: 0.3457 - acc: 0.8641Epoch 1/25\n",
      "  1/100 [..............................] - ETA: 1:20 - loss: 2.9826 - acc: 0.5500\n",
      "Epoch 00011: val_loss did not improve from 0.86111\n",
      "100/100 [==============================] - 107s 1s/step - loss: 0.3449 - acc: 0.8650 - val_loss: 2.9826 - val_acc: 0.5500\n",
      "Epoch 12/25\n",
      " 99/100 [============================>.] - ETA: 1s - loss: 0.3314 - acc: 0.8636Epoch 1/25\n",
      "  1/100 [..............................] - ETA: 1:20 - loss: 2.2878 - acc: 0.7000\n",
      "Epoch 00012: val_loss did not improve from 0.86111\n",
      "100/100 [==============================] - 102s 1s/step - loss: 0.3320 - acc: 0.8625 - val_loss: 2.2878 - val_acc: 0.7000\n",
      "Epoch 13/25\n",
      " 99/100 [============================>.] - ETA: 1s - loss: 0.3115 - acc: 0.8788Epoch 1/25\n",
      "  1/100 [..............................] - ETA: 1:18 - loss: 2.2272 - acc: 0.6500\n",
      "Epoch 00013: val_loss did not improve from 0.86111\n",
      "100/100 [==============================] - 103s 1s/step - loss: 0.3093 - acc: 0.8800 - val_loss: 2.2272 - val_acc: 0.6500\n",
      "Epoch 14/25\n",
      " 99/100 [============================>.] - ETA: 1s - loss: 0.3286 - acc: 0.8652Epoch 1/25\n",
      "  1/100 [..............................] - ETA: 1:32 - loss: 3.7011 - acc: 0.5500\n",
      "Epoch 00014: val_loss did not improve from 0.86111\n",
      "100/100 [==============================] - 107s 1s/step - loss: 0.3363 - acc: 0.8635 - val_loss: 3.7011 - val_acc: 0.5500\n",
      "Epoch 15/25\n",
      " 99/100 [============================>.] - ETA: 1s - loss: 0.3137 - acc: 0.8737Epoch 1/25\n",
      "  1/100 [..............................] - ETA: 1:20 - loss: 2.4563 - acc: 0.6000\n",
      "Epoch 00015: val_loss did not improve from 0.86111\n",
      "100/100 [==============================] - 102s 1s/step - loss: 0.3116 - acc: 0.8750 - val_loss: 2.4563 - val_acc: 0.6000\n",
      "Epoch 16/25\n",
      " 99/100 [============================>.] - ETA: 1s - loss: 0.2848 - acc: 0.8818Epoch 1/25\n",
      "  1/100 [..............................] - ETA: 1:26 - loss: 2.9897 - acc: 0.6500\n",
      "Epoch 00016: val_loss did not improve from 0.86111\n",
      "100/100 [==============================] - 102s 1s/step - loss: 0.2870 - acc: 0.8815 - val_loss: 2.9897 - val_acc: 0.6500\n",
      "Epoch 17/25\n",
      " 99/100 [============================>.] - ETA: 1s - loss: 0.2993 - acc: 0.8899Epoch 1/25\n",
      "  1/100 [..............................] - ETA: 1:44 - loss: 3.9473 - acc: 0.5500\n",
      "Epoch 00017: val_loss did not improve from 0.86111\n",
      "100/100 [==============================] - 104s 1s/step - loss: 0.3013 - acc: 0.8895 - val_loss: 3.9473 - val_acc: 0.5500\n",
      "Epoch 18/25\n",
      " 99/100 [============================>.] - ETA: 1s - loss: 0.2790 - acc: 0.8869Epoch 1/25\n",
      "  1/100 [..............................] - ETA: 1:21 - loss: 1.4055 - acc: 0.7500\n",
      "Epoch 00018: val_loss did not improve from 0.86111\n",
      "100/100 [==============================] - 104s 1s/step - loss: 0.2817 - acc: 0.8850 - val_loss: 1.4055 - val_acc: 0.7500\n",
      "Epoch 19/25\n",
      " 99/100 [============================>.] - ETA: 1s - loss: 0.2626 - acc: 0.9040Epoch 1/25\n",
      "  1/100 [..............................] - ETA: 1:18 - loss: 3.3955 - acc: 0.6000\n",
      "Epoch 00019: val_loss did not improve from 0.86111\n",
      "100/100 [==============================] - 106s 1s/step - loss: 0.2631 - acc: 0.9035 - val_loss: 3.3955 - val_acc: 0.6000\n",
      "Epoch 20/25\n",
      " 99/100 [============================>.] - ETA: 1s - loss: 0.2730 - acc: 0.8894Epoch 1/25\n",
      "  1/100 [..............................] - ETA: 1:20 - loss: 2.6238 - acc: 0.6000\n",
      "Epoch 00020: val_loss did not improve from 0.86111\n",
      "100/100 [==============================] - 103s 1s/step - loss: 0.2709 - acc: 0.8905 - val_loss: 2.6238 - val_acc: 0.6000\n",
      "Epoch 21/25\n",
      " 99/100 [============================>.] - ETA: 1s - loss: 0.2994 - acc: 0.8929Epoch 1/25\n",
      "  1/100 [..............................] - ETA: 1:20 - loss: 2.0991 - acc: 0.7000\n",
      "Epoch 00021: val_loss did not improve from 0.86111\n",
      "100/100 [==============================] - 102s 1s/step - loss: 0.3003 - acc: 0.8930 - val_loss: 2.0991 - val_acc: 0.7000\n",
      "Epoch 22/25\n",
      " 99/100 [============================>.] - ETA: 1s - loss: 0.2737 - acc: 0.8934Epoch 1/25\n",
      "  1/100 [..............................] - ETA: 1:18 - loss: 1.9953 - acc: 0.7000\n",
      "Epoch 00022: val_loss did not improve from 0.86111\n",
      "100/100 [==============================] - 103s 1s/step - loss: 0.2724 - acc: 0.8940 - val_loss: 1.9953 - val_acc: 0.7000\n",
      "Epoch 23/25\n",
      " 99/100 [============================>.] - ETA: 1s - loss: 0.2733 - acc: 0.9020Epoch 1/25\n"
     ]
    },
    {
     "name": "stdout",
     "output_type": "stream",
     "text": [
      "  1/100 [..............................] - ETA: 1:23 - loss: 1.4323 - acc: 0.7000\n",
      "Epoch 00023: val_loss did not improve from 0.86111\n",
      "100/100 [==============================] - 110s 1s/step - loss: 0.2721 - acc: 0.9025 - val_loss: 1.4323 - val_acc: 0.7000\n",
      "Epoch 24/25\n",
      " 99/100 [============================>.] - ETA: 1s - loss: 0.2361 - acc: 0.9086Epoch 1/25\n",
      "  1/100 [..............................] - ETA: 1:18 - loss: 1.4482 - acc: 0.7500\n",
      "Epoch 00024: val_loss did not improve from 0.86111\n",
      "100/100 [==============================] - 101s 1s/step - loss: 0.2382 - acc: 0.9080 - val_loss: 1.4482 - val_acc: 0.7500\n",
      "Epoch 25/25\n",
      " 99/100 [============================>.] - ETA: 1s - loss: 0.2400 - acc: 0.9136Epoch 1/25\n",
      "  1/100 [..............................] - ETA: 1:16 - loss: 2.3431 - acc: 0.6000\n",
      "Epoch 00025: val_loss did not improve from 0.86111\n",
      "100/100 [==============================] - 110s 1s/step - loss: 0.2382 - acc: 0.9140 - val_loss: 2.3431 - val_acc: 0.6000\n"
     ]
    }
   ],
   "source": [
    "inc_history = model.fit_generator(train_generator, validation_data = validation_generator, steps_per_epoch = 100, epochs = 25, callbacks=[mc])"
   ]
  },
  {
   "cell_type": "code",
   "execution_count": 13,
   "id": "e775c304",
   "metadata": {},
   "outputs": [
    {
     "data": {
      "image/png": "[encoded data removed]",
      "text/plain": [
       "<Figure size 432x288 with 1 Axes>"
      ]
     },
     "metadata": {
      "needs_background": "light"
     },
     "output_type": "display_data"
    }
   ],
   "source": [
    "import matplotlib.pyplot as plt\n",
    "# plot training history\n",
    "plt.figure()\n",
    "plt.plot(inc_history.history['acc'], label='acc')\n",
    "plt.plot(inc_history.history['val_acc'], label='val_acc')\n",
    "\n",
    "plt.title(\"Training & Validation Accuracy\")\n",
    "plt.xlabel(\"Epoch #\")\n",
    "plt.ylabel(\"Accuracy\")\n",
    "plt.legend()\n",
    "plt.savefig(\"plot/Inc3_A.png\")\n",
    "plt.show()"
   ]
  },
  {
   "cell_type": "code",
   "execution_count": 14,
   "id": "ecf16dd0",
   "metadata": {},
   "outputs": [
    {
     "data": {
      "image/png": "[encoded data removed]",
      "text/plain": [
       "<Figure size 432x288 with 1 Axes>"
      ]
     },
     "metadata": {
      "needs_background": "light"
     },
     "output_type": "display_data"
    }
   ],
   "source": [
    "import matplotlib.pyplot as plt\n",
    "# plot training history\n",
    "plt.figure()\n",
    "plt.plot(inc_history.history['loss'], label='loss')\n",
    "plt.plot(inc_history.history['val_loss'], label='val_loss')\n",
    "\n",
    "plt.title(\"Training & Validation Loss\")\n",
    "plt.xlabel(\"Epoch #\")\n",
    "plt.ylabel(\"Loss\")\n",
    "plt.legend()\n",
    "plt.savefig(\"plot/Inc3_L.png\")\n",
    "plt.show()"
   ]
  },
  {
   "cell_type": "code",
   "execution_count": 12,
   "id": "ff249883",
   "metadata": {},
   "outputs": [
    {
     "name": "stdout",
     "output_type": "stream",
     "text": [
      "WARNING:tensorflow:From C:\\Users\\samsu\\anaconda3\\envs\\AI_CW\\lib\\site-packages\\tensorflow_core\\python\\ops\\init_ops.py:97: calling GlorotUniform.__init__ (from tensorflow.python.ops.init_ops) with dtype is deprecated and will be removed in a future version.\n",
      "Instructions for updating:\n",
      "Call initializer instance with the dtype argument instead of passing it to the constructor\n",
      "WARNING:tensorflow:From C:\\Users\\samsu\\anaconda3\\envs\\AI_CW\\lib\\site-packages\\tensorflow_core\\python\\ops\\init_ops.py:97: calling Zeros.__init__ (from tensorflow.python.ops.init_ops) with dtype is deprecated and will be removed in a future version.\n",
      "Instructions for updating:\n",
      "Call initializer instance with the dtype argument instead of passing it to the constructor\n",
      "WARNING:tensorflow:From C:\\Users\\samsu\\anaconda3\\envs\\AI_CW\\lib\\site-packages\\tensorflow_core\\python\\ops\\init_ops.py:97: calling Ones.__init__ (from tensorflow.python.ops.init_ops) with dtype is deprecated and will be removed in a future version.\n",
      "Instructions for updating:\n",
      "Call initializer instance with the dtype argument instead of passing it to the constructor\n"
     ]
    },
    {
     "data": {
      "text/plain": [
       "[0.28805023431777954, 0.9]"
      ]
     },
     "execution_count": 12,
     "metadata": {},
     "output_type": "execute_result"
    }
   ],
   "source": [
    "from tensorflow.keras.models import load_model\n",
    "model1 = load_model('model/Incv3_model.hdf5')\n",
    "model1.evaluate_generator(test_generator)"
   ]
  },
  {
   "cell_type": "code",
   "execution_count": null,
   "id": "cc890f1b",
   "metadata": {},
   "outputs": [],
   "source": []
  }
 ],
 "metadata": {
  "kernelspec": {
   "display_name": "Python 3",
   "language": "python",
   "name": "python3"
  },
  "language_info": {
   "codemirror_mode": {
    "name": "ipython",
    "version": 3
   },
   "file_extension": ".py",
   "mimetype": "text/x-python",
   "name": "python",
   "nbconvert_exporter": "python",
   "pygments_lexer": "ipython3",
   "version": "3.6.13"
  }
 },
 "nbformat": 4,
 "nbformat_minor": 5
}
